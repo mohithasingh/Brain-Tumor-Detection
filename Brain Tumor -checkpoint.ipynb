{
 "cells": [
  {
   "cell_type": "markdown",
   "id": "61403404",
   "metadata": {},
   "source": [
    "# **Brain Tumor Detection**\n",
    "### Brain tumor detection in MR image using superpixels, principal component analysis and template based K-means clustering algorithm"
   ]
  },
  {
   "cell_type": "code",
   "execution_count": 1,
   "id": "e253308e",
   "metadata": {},
   "outputs": [],
   "source": [
    "import numpy as np\n",
    "import matplotlib.pyplot as plt # ploting your output\n",
    "from sklearn.decomposition import PCA\n",
    "from PIL import ImageFilter as f # median filter\n",
    "import cv2 as cv\n",
    "from skimage.segmentation import slic,mark_boundaries #superpixels\n",
    "from math import floor\n",
    "from skimage.util import img_as_float"
   ]
  },
  {
   "cell_type": "markdown",
   "id": "c307901d",
   "metadata": {},
   "source": [
    "## Preprocessing"
   ]
  },
  {
   "cell_type": "code",
   "execution_count": 8,
   "id": "dd105d52",
   "metadata": {},
   "outputs": [],
   "source": [
    "def filterImg(img):\n",
    "    fimg = img.filter(f.MedianFilter(size=3))\n",
    "    return fimg\n",
    "\n",
    "def superpixels(image):\n",
    "    segments = slic(img_as_float(image),start_label = 1, n_segments = 100, sigma = 5)\n",
    "    simg = mark_boundaries(img_as_float(cv.cvtColor(image, cv.COLOR_BGR2RGB)), segments)\n",
    "    img = cv.cvtColor(image, cv.COLOR_RGB2GRAY)\n",
    "#     plt.title(\"Reduced Image 1\")\n",
    "#     plt.imshow(simg)\n",
    "#     plt.show()\n",
    "    return img\n",
    "    \n",
    "\n",
    "def fPCA(img):\n",
    "    img_df = img/255\n",
    "    pca = PCA(n_components=50)\n",
    "    pca.fit(img_df)\n",
    "    trans_pca = pca.transform(img_df)\n",
    "    img_reduced = pca.inverse_transform(trans_pca)\n",
    "#     print(trans_pca.shape)\n",
    "#     plt.title(\"Reduced Image 2\")\n",
    "#     plt.imshow(img_reduced,'gray')\n",
    "#     plt.show()\n",
    "    return img\n",
    "\n",
    "\n",
    "def imageLoading(img_name):\n",
    "    img = cv.imread(img_name)\n",
    "    #fimg = filterImg(img)\n",
    "    sup = superpixels(img)\n",
    "    img = fPCA(sup)\n",
    "    img = KMeans(img)\n",
    "    X = img.shape[0]\n",
    "    copy = np.copy(img)\n",
    "    return [copy,X]\n",
    "\n"
   ]
  },
  {
   "cell_type": "markdown",
   "id": "29e21a57",
   "metadata": {},
   "source": [
    "## Template based KMeans Clustering Algorithm"
   ]
  },
  {
   "cell_type": "code",
   "execution_count": 3,
   "id": "c1618dec",
   "metadata": {},
   "outputs": [],
   "source": [
    "def TKMeans(inImg):\n",
    "#     img = cv2.cvtColor(img, cv2.COLOR_2)\n",
    "    nBins = 8\n",
    "    winSize = 7\n",
    "    nClass = 2\n",
    "    img = inImg\n",
    "    s = img.shape\n",
    "    NbParam = nBins * nBins * nBins ;\n",
    "    divis = 256 // nBins ;\n",
    "    \n",
    "    N=winSize;\n",
    "\n",
    "    n=(N-1)//2;\n",
    "    r=s[0]+2*n;\n",
    "    c=s[1]+2*n;\n",
    "\n",
    "    temp=np.zeros([r,c,3]);\n",
    "    mat=np.zeros([r,c,3]);\n",
    "    out=np.zeros([r,c,3]);\n",
    "    coarseImg = np.zeros([r,c]);\n",
    "    TabLabel = np.zeros([NbParam+1]);\n",
    "  \n",
    "    end = temp.shape[0]\n",
    "    end1 = temp.shape[1]\n",
    "\n",
    "    temp[(n):(end-n),(n):(end1-n),0]=img[:,:,0]\n",
    "    temp[(n):(end-n),(n):(end1-n),1]=img[:,:,1]\n",
    "    temp[(n):(end-n),(n):(end1-n),2]=img[:,:,2]\n",
    "\n",
    "    temp_color = temp\n",
    "\n",
    "    for x in range(n,s[0]+n-1):\n",
    "        for y in range(n,s[1]+n-1):\n",
    "            e=1\n",
    "            for k in range(x-n-1,x+n-1):\n",
    "                f=1\n",
    "                for l in range(y-n-1,y+n-1):\n",
    "                    mat[e,f,0]=temp[k,l,0]\n",
    "                    mat[e,f,1]=temp[k,l,1]\n",
    "                    mat[e,f,2]=temp[k,l,2]\n",
    "                    f=f+1\n",
    "                e=e+1\n",
    "\n",
    "            sum_lab = 0;\n",
    "            for i in range(0,winSize-1):\n",
    "                for j in range(0 ,winSize-1):\n",
    "                    lab = floor(mat[i,j,0]//divis)*(nBins*nBins);\n",
    "                    lab = lab + floor(mat[i,j,1]//divis)*(nBins);\n",
    "                    lab = lab + floor(mat[i,j,2]//divis);\n",
    "                    lab = lab + 1;\n",
    "                    TabLabel[lab] = TabLabel[lab] + 1;\n",
    "                    sum_lab = sum_lab + lab;\n",
    "\n",
    "\n",
    "            coarseImg[x,y] = floor(sum_lab // (winSize * winSize));\n",
    "\n",
    "    end = coarseImg.shape[0]\n",
    "    end1 = coarseImg.shape[1]\n",
    "\n",
    "    trunCoarseImg = coarseImg[(n):(end-n),(n):(end1-n)];\n",
    "    tempVar = trunCoarseImg[:,:]\n",
    "    inImg_1D = tempVar[:,:]\n",
    "#     return inImg_1D\n",
    "    out = KMeans(inImg_1D)\n",
    "#     fusedMapShow = np.uint8(out*(255/nClass))\n",
    "#     outImg = cv.resize(fusedMapShow,(s[0],s[1]))\n",
    "    return out.copy()"
   ]
  },
  {
   "cell_type": "code",
   "execution_count": 4,
   "id": "0f99453d",
   "metadata": {},
   "outputs": [],
   "source": [
    "def KMeans(inImg_1D):\n",
    "    img = inImg_1D\n",
    "#     img = cv.imread(\"1.jpg\")\n",
    "    vectorized = img.reshape((-1))\n",
    "    # print(vectorized.shape)\n",
    "    vectorized = np.float32(vectorized)\n",
    "\n",
    "    criteria = (cv.TERM_CRITERIA_EPS + cv.TERM_CRITERIA_MAX_ITER, 100, 0)\n",
    "\n",
    "    K=8\n",
    "    attempts=10\n",
    "    ret,label,center=cv.kmeans(vectorized,K,None,criteria,attempts,cv.KMEANS_RANDOM_CENTERS)\n",
    "    label = label.flatten()\n",
    "\n",
    "    center = np.uint8(center)\n",
    "    res = center[label.flatten()]\n",
    "    result_image = res.reshape((img.shape))\n",
    "\n",
    "#     plt.imshow(result_image,\"gray\")\n",
    "#     plt.title('Segmented Image when K = 8')\n",
    "#     plt.show()\n",
    "    return result_image.copy()"
   ]
  },
  {
   "cell_type": "markdown",
   "id": "1115d0f2",
   "metadata": {},
   "source": [
    "## Morphological Operations"
   ]
  },
  {
   "cell_type": "code",
   "execution_count": 5,
   "id": "516f2d51",
   "metadata": {},
   "outputs": [],
   "source": [
    "def morphologicalOp(copy,X):\n",
    "    ## First enhancement\n",
    "    \n",
    "    blur = cv.GaussianBlur(copy,(5,5),2)\n",
    "    enh = cv.add(copy,(cv.add(blur,-100))) \n",
    "\n",
    "    ## Denoising\n",
    "    median = cv.medianBlur(enh,5)\n",
    "\n",
    "    ## Morphological Gradient\n",
    "    kernel = cv.getStructuringElement(cv.MORPH_CROSS,(3,3))\n",
    "    gradient = cv.morphologyEx(median, cv.MORPH_GRADIENT, kernel)\n",
    "\n",
    "    ## Second enhancement\n",
    "    enh2 = cv.add(median,gradient)\n",
    "    \n",
    "\n",
    "    ## First thresholding\n",
    "    t = np.percentile(enh2,85) \n",
    "    ret,th = cv.threshold(enh2, t, 255, cv.THRESH_BINARY)\n",
    "\n",
    "    ## Morphology operations\n",
    "    kernel_c = cv.getStructuringElement(cv.MORPH_ELLIPSE,(int((5*X)/100),int((5*X)/100))) #\n",
    "    kernel_e = cv.getStructuringElement(cv.MORPH_ELLIPSE,(int((3*X)/100),int((3*X)/100))) #\n",
    "    ker = cv.getStructuringElement(cv.MORPH_ELLIPSE,(int((7*X)/100),int((7*X)/100)))\n",
    "\n",
    "    opening = cv.morphologyEx(th, cv.MORPH_OPEN, kernel_e)\n",
    "    closing = cv.morphologyEx(opening, cv.MORPH_CLOSE, kernel_c) \n",
    "    erosion = cv.erode(closing,kernel_e,iterations = 1)\n",
    "    dilation = cv.dilate(erosion,kernel_e,iterations = 1)\n",
    "\n",
    "    ## Masking\n",
    "    masked = cv.bitwise_and(copy, copy, mask=dilation)\n",
    "\n",
    "    ## Second round of morphology operations\n",
    "    s_erosion = cv.erode(masked,kernel,iterations = 1)\n",
    "    final = cv.morphologyEx(s_erosion, cv.MORPH_OPEN, ker)\n",
    "\n",
    "    ## Third enhancement\n",
    "    blur3 = cv.GaussianBlur(final,(3,3),0)\n",
    "    enh3 = cv.add(final,(cv.add(blur3,-100)))\n",
    "#     plt.imshow(enh,\"gray\")\n",
    "#     plt.title(\"EXtracted Tumor\")\n",
    "#     plt.show()\n",
    "\n",
    "    ## Second thresholding\n",
    "    upper = np.percentile(enh3,92)\n",
    "    res = cv.inRange(enh3, 0, upper)\n",
    "\n",
    "    ## Final morphology step\n",
    "    fin = cv.morphologyEx(res, cv.MORPH_CLOSE, cv.getStructuringElement(cv.MORPH_ELLIPSE,(int((7*X)/100),int((7*X)/100))))\n",
    "#     plt.imshow(fin,\"gray\")\n",
    "#     plt.title(\"EXtracted Tumor\")\n",
    "#     plt.show()\n",
    "    return fin"
   ]
  },
  {
   "cell_type": "code",
   "execution_count": 6,
   "id": "01bbc821",
   "metadata": {},
   "outputs": [],
   "source": [
    "def Tumoroutline(IMG):\n",
    "    copy,X = imageLoading(IMG)\n",
    "    fin = morphologicalOp(copy,X)\n",
    "    ## Contouring\n",
    "    copy_rgb = cv.cvtColor(copy,cv.COLOR_BGR2RGB) # necessary step in order to print out the original image colors correctly\n",
    "\n",
    "    contours, hierarchy = cv.findContours(fin, cv.RETR_TREE, cv.CHAIN_APPROX_SIMPLE)\n",
    "\n",
    "    if len(contours) > 1:\n",
    "        cnt = contours[1]\n",
    "        if len(contours) > 2:\n",
    "            cv.drawContours(copy_rgb, contours, 2, (255,0,0), 3)\n",
    "            plt.imshow(copy_rgb),plt.title(\"TUMOR DETECTED\")\n",
    "            plt.show()\n",
    "        else:\n",
    "            cv.drawContours(copy_rgb, contours, 1, (255,0,0), 3)\n",
    "            plt.imshow(copy_rgb),plt.title(\"TUMOR DETECTED\")\n",
    "            plt.show()\n",
    "\n",
    "    else:\n",
    "        plt.imshow(copy,\"gray\"),plt.title(\"NO TUMOR DETECTED\")\n",
    "        plt.show()"
   ]
  },
  {
   "cell_type": "markdown",
   "id": "dc80bc5a",
   "metadata": {},
   "source": [
    "### Image Loading"
   ]
  },
  {
   "cell_type": "code",
   "execution_count": 9,
   "id": "a1aa4257",
   "metadata": {
    "scrolled": true
   },
   "outputs": [
    {
     "ename": "NameError",
     "evalue": "name 'fimg' is not defined",
     "output_type": "error",
     "traceback": [
      "\u001b[1;31m---------------------------------------------------------------------------\u001b[0m",
      "\u001b[1;31mNameError\u001b[0m                                 Traceback (most recent call last)",
      "Input \u001b[1;32mIn [9]\u001b[0m, in \u001b[0;36m<cell line: 1>\u001b[1;34m()\u001b[0m\n\u001b[1;32m----> 1\u001b[0m \u001b[43mTumoroutline\u001b[49m\u001b[43m(\u001b[49m\u001b[38;5;124;43m\"\u001b[39;49m\u001b[38;5;124;43mDATASETS/Y5.jpg\u001b[39;49m\u001b[38;5;124;43m\"\u001b[39;49m\u001b[43m)\u001b[49m\n",
      "Input \u001b[1;32mIn [6]\u001b[0m, in \u001b[0;36mTumoroutline\u001b[1;34m(IMG)\u001b[0m\n\u001b[0;32m      1\u001b[0m \u001b[38;5;28;01mdef\u001b[39;00m \u001b[38;5;21mTumoroutline\u001b[39m(IMG):\n\u001b[1;32m----> 2\u001b[0m     copy,X \u001b[38;5;241m=\u001b[39m \u001b[43mimageLoading\u001b[49m\u001b[43m(\u001b[49m\u001b[43mIMG\u001b[49m\u001b[43m)\u001b[49m\n\u001b[0;32m      3\u001b[0m     fin \u001b[38;5;241m=\u001b[39m morphologicalOp(copy,X)\n\u001b[0;32m      4\u001b[0m     \u001b[38;5;66;03m## Contouring\u001b[39;00m\n",
      "Input \u001b[1;32mIn [8]\u001b[0m, in \u001b[0;36mimageLoading\u001b[1;34m(img_name)\u001b[0m\n\u001b[0;32m     29\u001b[0m img \u001b[38;5;241m=\u001b[39m cv\u001b[38;5;241m.\u001b[39mimread(img_name)\n\u001b[0;32m     30\u001b[0m \u001b[38;5;66;03m#fimg = filterImg(img)\u001b[39;00m\n\u001b[1;32m---> 31\u001b[0m sup \u001b[38;5;241m=\u001b[39m superpixels(\u001b[43mfimg\u001b[49m)\n\u001b[0;32m     32\u001b[0m img \u001b[38;5;241m=\u001b[39m fPCA(sup)\n\u001b[0;32m     33\u001b[0m img \u001b[38;5;241m=\u001b[39m KMeans(img)\n",
      "\u001b[1;31mNameError\u001b[0m: name 'fimg' is not defined"
     ]
    }
   ],
   "source": [
    "Tumoroutline(\"DATASETS/Y5.jpg\")"
   ]
  },
  {
   "cell_type": "code",
   "execution_count": null,
   "id": "dd554ed5",
   "metadata": {
    "scrolled": true
   },
   "outputs": [],
   "source": [
    "Tumoroutline(\"DATASETS/N1.jpg\")"
   ]
  },
  {
   "cell_type": "code",
   "execution_count": null,
   "id": "0c311e8d",
   "metadata": {
    "scrolled": true
   },
   "outputs": [],
   "source": [
    "# import os\n",
    "for j in os.listdir(\"DATASETS/\"):\n",
    "#     Tumoroutline(\"DATASETS/\" + j)"
   ]
  },
  {
   "cell_type": "code",
   "execution_count": null,
   "id": "6680cbb3",
   "metadata": {},
   "outputs": [],
   "source": []
  }
 ],
 "metadata": {
  "authors": [
   {
    "name": "Giuseppe Morgese"
   }
  ],
  "kernelspec": {
   "display_name": "Python 3 (ipykernel)",
   "language": "python",
   "name": "python3"
  },
  "language_info": {
   "codemirror_mode": {
    "name": "ipython",
    "version": 3
   },
   "file_extension": ".py",
   "mimetype": "text/x-python",
   "name": "python",
   "nbconvert_exporter": "python",
   "pygments_lexer": "ipython3",
   "version": "3.9.12"
  },
  "title": "Brain Tumor Detection through Image Processing"
 },
 "nbformat": 4,
 "nbformat_minor": 5
}
